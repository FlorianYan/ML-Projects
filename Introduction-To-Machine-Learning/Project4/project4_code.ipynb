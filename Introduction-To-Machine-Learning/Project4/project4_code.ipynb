{
 "cells": [
  {
   "cell_type": "markdown",
   "id": "c0a46aca0e5d9ef",
   "metadata": {
    "collapsed": false
   },
   "source": [
    "First, we import necessary libraries:"
   ]
  },
  {
   "cell_type": "code",
   "execution_count": 1,
   "id": "b1c6ff7632991155",
   "metadata": {
    "collapsed": false
   },
   "outputs": [],
   "source": [
    "import pandas as pd\n",
    "import numpy as np\n",
    "from tqdm import tqdm\n",
    "import torch\n",
    "import torch.nn as nn\n",
    "from torch.utils.data import Dataset, DataLoader\n",
    "\n",
    "from transformers import pipeline\n",
    "from transformers import  AutoTokenizer\n",
    "from transformers import AlbertConfig, AlbertModel\n",
    "\n",
    "import torch.nn.functional as F\n",
    "import torch.optim as optim\n",
    "\n",
    "import matplotlib.pyplot as plt\n",
    "\n",
    "from sklearn.model_selection import train_test_split\n",
    "from sklearn.preprocessing import MinMaxScaler, StandardScaler"
   ]
  },
  {
   "cell_type": "markdown",
   "id": "39437380",
   "metadata": {},
   "source": [
    "Look at the data"
   ]
  },
  {
   "cell_type": "code",
   "execution_count": 2,
   "id": "8d9b5e89d4b3a02",
   "metadata": {
    "collapsed": false
   },
   "outputs": [
    {
     "name": "stdout",
     "output_type": "stream",
     "text": [
      "cpu\n"
     ]
    },
    {
     "data": {
      "text/html": [
       "<div>\n",
       "<style scoped>\n",
       "    .dataframe tbody tr th:only-of-type {\n",
       "        vertical-align: middle;\n",
       "    }\n",
       "\n",
       "    .dataframe tbody tr th {\n",
       "        vertical-align: top;\n",
       "    }\n",
       "\n",
       "    .dataframe thead th {\n",
       "        text-align: right;\n",
       "    }\n",
       "</style>\n",
       "<table border=\"1\" class=\"dataframe\">\n",
       "  <thead>\n",
       "    <tr style=\"text-align: right;\">\n",
       "      <th></th>\n",
       "      <th>title</th>\n",
       "      <th>sentence</th>\n",
       "      <th>score</th>\n",
       "    </tr>\n",
       "  </thead>\n",
       "  <tbody>\n",
       "    <tr>\n",
       "      <th>0</th>\n",
       "      <td>not really sayin anything</td>\n",
       "      <td>this movie is ok but its not teachin anything ...</td>\n",
       "      <td>4.657854</td>\n",
       "    </tr>\n",
       "    <tr>\n",
       "      <th>1</th>\n",
       "      <td>Good for the cost.</td>\n",
       "      <td>This item is cheap, easy to use, and has lots ...</td>\n",
       "      <td>7.531274</td>\n",
       "    </tr>\n",
       "    <tr>\n",
       "      <th>2</th>\n",
       "      <td>Great little appliance</td>\n",
       "      <td>I love this chopper as it's the right size for...</td>\n",
       "      <td>9.584762</td>\n",
       "    </tr>\n",
       "    <tr>\n",
       "      <th>3</th>\n",
       "      <td>bloated!</td>\n",
       "      <td>there is about 10 minutes of real content in t...</td>\n",
       "      <td>1.016373</td>\n",
       "    </tr>\n",
       "    <tr>\n",
       "      <th>4</th>\n",
       "      <td>Long Live Chris!</td>\n",
       "      <td>I'm so glad there are still people out there w...</td>\n",
       "      <td>9.605730</td>\n",
       "    </tr>\n",
       "    <tr>\n",
       "      <th>5</th>\n",
       "      <td>New agey nonsense</td>\n",
       "      <td>My wife was given this for free. Her mom died ...</td>\n",
       "      <td>1.133662</td>\n",
       "    </tr>\n",
       "    <tr>\n",
       "      <th>6</th>\n",
       "      <td>Dated monotone ...</td>\n",
       "      <td>Being a Cunard aficionado and traveled transat...</td>\n",
       "      <td>2.072175</td>\n",
       "    </tr>\n",
       "    <tr>\n",
       "      <th>7</th>\n",
       "      <td>five 3.5 windows? not for me</td>\n",
       "      <td>I'm disappointed with the product description ...</td>\n",
       "      <td>4.271343</td>\n",
       "    </tr>\n",
       "    <tr>\n",
       "      <th>8</th>\n",
       "      <td>Do not buy this item!</td>\n",
       "      <td>Not even worth five bucks. In fact, because I ...</td>\n",
       "      <td>0.148152</td>\n",
       "    </tr>\n",
       "    <tr>\n",
       "      <th>9</th>\n",
       "      <td>A superior version of Alice in wonderland</td>\n",
       "      <td>This movie reminded me of a slightly more mani...</td>\n",
       "      <td>8.454322</td>\n",
       "    </tr>\n",
       "  </tbody>\n",
       "</table>\n",
       "</div>"
      ],
      "text/plain": [
       "                                       title  \\\n",
       "0                  not really sayin anything   \n",
       "1                         Good for the cost.   \n",
       "2                     Great little appliance   \n",
       "3                                   bloated!   \n",
       "4                           Long Live Chris!   \n",
       "5                          New agey nonsense   \n",
       "6                         Dated monotone ...   \n",
       "7               five 3.5 windows? not for me   \n",
       "8                      Do not buy this item!   \n",
       "9  A superior version of Alice in wonderland   \n",
       "\n",
       "                                            sentence     score  \n",
       "0  this movie is ok but its not teachin anything ...  4.657854  \n",
       "1  This item is cheap, easy to use, and has lots ...  7.531274  \n",
       "2  I love this chopper as it's the right size for...  9.584762  \n",
       "3  there is about 10 minutes of real content in t...  1.016373  \n",
       "4  I'm so glad there are still people out there w...  9.605730  \n",
       "5  My wife was given this for free. Her mom died ...  1.133662  \n",
       "6  Being a Cunard aficionado and traveled transat...  2.072175  \n",
       "7  I'm disappointed with the product description ...  4.271343  \n",
       "8  Not even worth five bucks. In fact, because I ...  0.148152  \n",
       "9  This movie reminded me of a slightly more mani...  8.454322  "
      ]
     },
     "metadata": {},
     "output_type": "display_data"
    }
   ],
   "source": [
    "DEVICE = torch.device(\"cuda:0\" if torch.cuda.is_available() else \"cpu\")\n",
    "print(DEVICE)\n",
    "BATCH_SIZE = 64\n",
    "#NUM_EPOCHS = 11\n",
    "\n",
    "# Set seeds for reproducibility\n",
    "np.random.seed(42)\n",
    "torch.manual_seed(42)\n",
    "\n",
    "train_val = pd.read_csv(\"train.csv\")\n",
    "test_val = pd.read_csv(\"test_no_score.csv\")\n",
    "\n",
    "display(train_val.head(10))"
   ]
  },
  {
   "cell_type": "markdown",
   "id": "7a59789d",
   "metadata": {},
   "source": [
    "Initialize the Transformer"
   ]
  },
  {
   "cell_type": "code",
   "execution_count": null,
   "id": "59eb6599",
   "metadata": {},
   "outputs": [],
   "source": [
    "tokenizer = AutoTokenizer.from_pretrained(\"albert/albert-base-v2\")\n",
    "\n",
    "config = AlbertConfig.from_pretrained(\"albert/albert-base-v2\")\n",
    "albert = AlbertModel.from_pretrained(\"albert/albert-base-v2\")\n",
    "\n",
    "# Freeze the layers\n",
    "for param in albert.parameters():\n",
    "    param.requires_grad = False"
   ]
  },
  {
   "cell_type": "markdown",
   "id": "fd8ab7e7",
   "metadata": {},
   "source": [
    "Encode the embeddings"
   ]
  },
  {
   "cell_type": "code",
   "execution_count": null,
   "id": "4e805a31",
   "metadata": {},
   "outputs": [],
   "source": [
    "def enc_emb(row):\n",
    "    title = row.iloc[0]\n",
    "    content = row.iloc[1]\n",
    "\n",
    "    with torch.no_grad():\n",
    "        input_title = torch.tensor(tokenizer.encode(title)).unsqueeze(0)\n",
    "        output_title = albert(input_title).pooler_output # pooler_output to capture the overall sematic content of the text\n",
    "\n",
    "        input_content = torch.tensor(tokenizer.encode(content)).unsqueeze(0)\n",
    "        output_content = albert(input_content).pooler_output # pooler_output to capture the overall sematic content of the text\n",
    "\n",
    "    return output_title, output_content"
   ]
  },
  {
   "cell_type": "code",
   "execution_count": null,
   "id": "be61ef5a",
   "metadata": {},
   "outputs": [],
   "source": [
    "def ext_emb(DataFrame, embedding_size):\n",
    "    embeddings = torch.empty((2, len(DataFrame), embedding_size), dtype=torch.float32)\n",
    "    for i, row in tqdm(DataFrame.iterrows(),  total=DataFrame.shape[0], desc=f'Reading {DataFrame.name}'):\n",
    "        title, content = enc_emb(row)\n",
    "        \n",
    "        embeddings[0][i] = title\n",
    "        embeddings[1][i] = content\n",
    "    \n",
    "    return embeddings"
   ]
  },
  {
   "cell_type": "code",
   "execution_count": null,
   "id": "4310da18",
   "metadata": {},
   "outputs": [],
   "source": [
    "embedding_size = 768\n",
    "\n",
    "# extract train embeddings\n",
    "train_val.name = 'Train Data'\n",
    "train_embeddings = ext_emb(train_val, embedding_size=embedding_size)\n",
    "np.save('embeddings_ALBERT/train_embeddings.npy', train_embeddings)\n",
    "print(\"Train embeddings extracted\")"
   ]
  },
  {
   "cell_type": "code",
   "execution_count": null,
   "id": "e16cdf9e",
   "metadata": {},
   "outputs": [],
   "source": [
    "# extract test embeddings\n",
    "test_val.name = 'Test Data'\n",
    "test_embeddings = ext_emb(test_val, embedding_size=embedding_size)\n",
    "np.save('embeddings_ALBERT/test_embeddings.npy', test_embeddings)\n",
    "print(\"Test embeddings extracted\")"
   ]
  },
  {
   "cell_type": "markdown",
   "id": "9383afc8",
   "metadata": {},
   "source": [
    "Load the embeddings"
   ]
  },
  {
   "cell_type": "code",
   "execution_count": 3,
   "id": "c485b0a1",
   "metadata": {},
   "outputs": [],
   "source": [
    "test_embeddings = np.load('embeddings_ALBERT/test_embeddings.npy')\n",
    "train_embeddings = np.load('embeddings_ALBERT/train_embeddings.npy')"
   ]
  },
  {
   "cell_type": "code",
   "execution_count": 5,
   "id": "5cd81f89",
   "metadata": {},
   "outputs": [],
   "source": [
    "def scale(embedding, scaler):\n",
    "    titles = embedding[0]\n",
    "    content = embedding[1]\n",
    "\n",
    "    titles_scaled = scaler.fit_transform(titles)\n",
    "    content_scaled = scaler.fit_transform(content)\n",
    "\n",
    "    embedding_scaled = embedding.copy()\n",
    "\n",
    "    embedding_scaled[0] = titles_scaled\n",
    "    embedding_scaled[1] = content_scaled\n",
    "\n",
    "    return embedding_scaled"
   ]
  },
  {
   "cell_type": "code",
   "execution_count": 6,
   "id": "07d54030",
   "metadata": {},
   "outputs": [],
   "source": [
    "scaler = StandardScaler()\n",
    "\n",
    "test_embeddings_scaled = scale(test_embeddings, scaler)\n",
    "train_embeddings_scaled = scale(train_embeddings, scaler)"
   ]
  },
  {
   "cell_type": "code",
   "execution_count": 8,
   "id": "f9e976ad",
   "metadata": {},
   "outputs": [],
   "source": [
    "del train_embeddings\n",
    "del test_embeddings\n",
    "del scaler"
   ]
  },
  {
   "cell_type": "markdown",
   "id": "486b19aa",
   "metadata": {},
   "source": [
    "Define custom Dataset"
   ]
  },
  {
   "cell_type": "code",
   "execution_count": 9,
   "id": "26e2fcea",
   "metadata": {},
   "outputs": [],
   "source": [
    "class ReviewDataset(Dataset):\n",
    "    def __init__(self, data_frame, embeddings, train):\n",
    "        self.data_frame = data_frame # load the read-in csv file\n",
    "        self.embeddings = embeddings\n",
    "        self.train = train # defines if we're working with a train or test dataset (with or without score)\n",
    "\n",
    "    def __len__(self):\n",
    "        return len(self.data_frame) # return rows\n",
    "\n",
    "    def __getitem__(self, index):\n",
    "\n",
    "        if torch.is_tensor(index):\n",
    "                index = index.tolist()\n",
    "\n",
    "        # title\n",
    "        title = self.embeddings[0][index]\n",
    "\n",
    "        # content\n",
    "        content = self.embeddings[1][index]\n",
    "\n",
    "        if self.train:\n",
    "            # score\n",
    "            score = self.data_frame.iloc[index,2]\n",
    "\n",
    "            #return title, content, score\n",
    "            sample = {'title': title, 'content': content, 'score': score}\n",
    "\n",
    "        else:\n",
    "            #return title, content (without score)\n",
    "            sample = {'title': title, 'content': content}\n",
    "        \n",
    "        return sample"
   ]
  },
  {
   "cell_type": "markdown",
   "id": "f4422d81",
   "metadata": {},
   "source": [
    "Apply custom dataset and perform train test split on training data"
   ]
  },
  {
   "cell_type": "code",
   "execution_count": 10,
   "id": "676f7a012f50e988",
   "metadata": {
    "collapsed": false
   },
   "outputs": [],
   "source": [
    "train_dataset_total = ReviewDataset(train_val, embeddings=train_embeddings_scaled, train=True)\n",
    "test_dataset = ReviewDataset(test_val, embeddings=test_embeddings_scaled, train=False)\n",
    "train_dataset, valid_dataset = train_test_split(train_dataset_total, random_state=42, test_size=0.2)\n",
    "\n",
    "del train_val\n",
    "del test_val"
   ]
  },
  {
   "cell_type": "markdown",
   "id": "dde462ad",
   "metadata": {},
   "source": [
    "Put data in a DataLoader"
   ]
  },
  {
   "cell_type": "code",
   "execution_count": 11,
   "id": "fdd10294",
   "metadata": {},
   "outputs": [],
   "source": [
    "num_workers = 0\n",
    "\n",
    "train_loader_total = DataLoader(dataset=train_dataset_total,\n",
    "                         batch_size=BATCH_SIZE,\n",
    "                         shuffle=True, num_workers=num_workers, pin_memory=True)\n",
    "test_loader = DataLoader(dataset=test_dataset,\n",
    "                         batch_size=BATCH_SIZE,\n",
    "                         shuffle=False, num_workers=num_workers, pin_memory=True)\n",
    "train_loader = DataLoader(dataset=train_dataset,\n",
    "                          batch_size=BATCH_SIZE,\n",
    "                          shuffle=True, num_workers=num_workers, pin_memory=True)\n",
    "valid_loader = DataLoader(dataset=valid_dataset,\n",
    "                          batch_size=BATCH_SIZE,\n",
    "                          shuffle=True, num_workers=num_workers, pin_memory=True)"
   ]
  },
  {
   "cell_type": "markdown",
   "id": "79515694",
   "metadata": {},
   "source": [
    "Define the MLP"
   ]
  },
  {
   "cell_type": "code",
   "execution_count": 23,
   "id": "843f38b9dbea00b0",
   "metadata": {
    "collapsed": false
   },
   "outputs": [],
   "source": [
    "class MyModule(nn.Module):\n",
    "    def __init__(self,\n",
    "                num_units_input = 1536,\n",
    "                num_units = 768,\n",
    "                nonlin = F.leaky_relu,\n",
    "                ):\n",
    "        \n",
    "        super().__init__()\n",
    "        self.num_units_input = num_units_input\n",
    "        self.num_units = num_units\n",
    "        self.nonlin = nonlin\n",
    "\n",
    "        # Linear functions\n",
    "        self.fc1 = nn.Linear(num_units_input, num_units)\n",
    "        self.fc2 = nn.Linear(num_units, round(num_units/2))\n",
    "        self.fc3 = nn.Linear(round(num_units/2), round(num_units/3))\n",
    "        self.fc4 = nn.Linear(round(num_units/3), 1)\n",
    "\n",
    "        # Activation functions\n",
    "        self.nonlin = nonlin\n",
    "        self.sigmoid = nn.Sigmoid()\n",
    "\n",
    "        # Dropout\n",
    "        self.dropout = nn.Dropout(p=0.5)\n",
    "\n",
    "        # Batch normalization\n",
    "        self.bn1 = nn.BatchNorm1d(num_units)\n",
    "        self.bn2 = nn.BatchNorm1d(round(num_units/2))\n",
    "        self.bn_final = nn.BatchNorm1d(1)\n",
    "\n",
    "    def forward(self, x):\n",
    "\n",
    "        x = self.nonlin(self.fc1(x))\n",
    "        x = self.bn1(x)\n",
    "        x = self.nonlin(self.fc2(x))\n",
    "        x = self.bn2(x)\n",
    "        x = self.nonlin(self.fc3(x))\n",
    "        x = self.dropout(x)\n",
    "        x = self.nonlin(self.fc4(x))\n",
    "        x = self.bn_final(x)\n",
    "        x = self.sigmoid(x)*10 # to get output between 0 and 10\n",
    "        x = x.view(-1)\n",
    "        \n",
    "        return x\n"
   ]
  },
  {
   "cell_type": "markdown",
   "id": "62110e2e",
   "metadata": {},
   "source": [
    "Model selection"
   ]
  },
  {
   "cell_type": "code",
   "execution_count": 24,
   "id": "43386e1b",
   "metadata": {},
   "outputs": [
    {
     "name": "stdout",
     "output_type": "stream",
     "text": [
      "Epoch 1 \t\t Training Loss: 10.971940054321289 \t Validation Loss: 10.354418711853027\n",
      "Epoch 2 \t\t Training Loss: 8.917001056671143 \t Validation Loss: 5.733812867736816\n",
      "Epoch 3 \t\t Training Loss: 6.028960964965821 \t Validation Loss: 5.692393262672424\n",
      "Epoch 4 \t\t Training Loss: 5.004091248703003 \t Validation Loss: 4.572905363464355\n",
      "Epoch 5 \t\t Training Loss: 4.50903265838623 \t Validation Loss: 4.636930767536163\n",
      "Epoch 6 \t\t Training Loss: 4.309594402694702 \t Validation Loss: 3.949504180622101\n",
      "Epoch 7 \t\t Training Loss: 3.9533838615417483 \t Validation Loss: 3.9443527015686035\n",
      "Epoch 8 \t\t Training Loss: 3.8708038444519044 \t Validation Loss: 3.7718184143066407\n",
      "Epoch 9 \t\t Training Loss: 3.677022843170166 \t Validation Loss: 4.009313013076782\n",
      "Epoch 10 \t\t Training Loss: 3.5171047603607177 \t Validation Loss: 3.813232194519043\n",
      "Epoch 11 \t\t Training Loss: 3.374852491378784 \t Validation Loss: 3.6648180053710937\n",
      "Epoch 12 \t\t Training Loss: 3.3361472023010252 \t Validation Loss: 3.8338697147369385\n",
      "Epoch 13 \t\t Training Loss: 3.3293926895141603 \t Validation Loss: 3.6218336778640747\n",
      "Epoch 14 \t\t Training Loss: 3.1668841903686524 \t Validation Loss: 3.713169462776184\n",
      "Epoch 15 \t\t Training Loss: 3.077482501220703 \t Validation Loss: 3.9968075630187987\n",
      "Epoch 16 \t\t Training Loss: 3.0178733474731447 \t Validation Loss: 3.7611420272827147\n",
      "Epoch 17 \t\t Training Loss: 2.943758168029785 \t Validation Loss: 3.5697158988952635\n",
      "Epoch 18 \t\t Training Loss: 2.957559257888794 \t Validation Loss: 3.5543172863006594\n",
      "Epoch 19 \t\t Training Loss: 2.8978887619018554 \t Validation Loss: 3.459016674423218\n",
      "Epoch 20 \t\t Training Loss: 2.747934447479248 \t Validation Loss: 3.697883810043335\n"
     ]
    }
   ],
   "source": [
    "model = MyModule().to(DEVICE)\n",
    "\n",
    "NUM_EPOCHS = 20\n",
    "\n",
    "criterion = nn.MSELoss()\n",
    "optimizer = optim.Adam(model.parameters(), lr=0.01)\n",
    "lambda1 = lambda epoch: 0.95 ** epoch\n",
    "scheduler = optim.lr_scheduler.LambdaLR(optimizer, lambda1)\n",
    "\n",
    "train_losses = []\n",
    "valid_losses = []\n",
    "\n",
    "model.train()\n",
    "for epoch in range(NUM_EPOCHS):\n",
    "    model.train()\n",
    "\n",
    "    # training loop\n",
    "    running_loss = 0.0\n",
    "\n",
    "    for sample in train_loader:\n",
    "        title = sample['title'].to(DEVICE)\n",
    "        content = sample['content'].to(DEVICE)\n",
    "        score = sample['score'].to(DEVICE)\n",
    "\n",
    "        input = torch.cat((title, content), -1)\n",
    "        optimizer.zero_grad()\n",
    "        output = model(input)\n",
    "        \n",
    "        loss = criterion(output, score.float())\n",
    "        loss.backward()\n",
    "        optimizer.step()\n",
    "\n",
    "        running_loss += loss.item()*input.size(0)\n",
    "    \n",
    "    training_loss = running_loss / len(train_loader.dataset)\n",
    "    train_losses.append(training_loss)\n",
    "\n",
    "    scheduler.step()\n",
    "\n",
    "    # validation loop\n",
    "    valid_loss = 0.0\n",
    "    model.eval()\n",
    "    with torch.no_grad():\n",
    "        for sample in valid_loader:\n",
    "            title = sample['title'].to(DEVICE)\n",
    "            content = sample['content'].to(DEVICE)\n",
    "            score = sample['score'].to(DEVICE)\n",
    "\n",
    "            input = torch.cat((title, content), -1)\n",
    "            output = model(input)\n",
    "            \n",
    "            loss = criterion(output, score.float())\n",
    "            valid_loss += loss.item()*input.size(0)\n",
    "    \n",
    "    valid_loss = valid_loss / len(valid_loader.dataset)\n",
    "    valid_losses.append(valid_loss)\n",
    "\n",
    "    #scheduler.step()\n",
    "\n",
    "    print(f'Epoch {epoch+1} \\t\\t Training Loss: {training_loss} \\t Validation Loss: {valid_loss}')"
   ]
  },
  {
   "cell_type": "code",
   "execution_count": 25,
   "id": "ddaa93ee",
   "metadata": {},
   "outputs": [
    {
     "data": {
      "image/png": "[encoded data removed]",
      "text/plain": [
       "<Figure size 640x480 with 1 Axes>"
      ]
     },
     "metadata": {},
     "output_type": "display_data"
    }
   ],
   "source": [
    "x = np.linspace(0, NUM_EPOCHS, NUM_EPOCHS)\n",
    "\n",
    "plt.plot(x, train_losses)\n",
    "plt.plot(x, valid_losses)\n",
    "plt.ylim(0., 15)\n",
    "\n",
    "plt.show()"
   ]
  },
  {
   "cell_type": "markdown",
   "id": "3d480d85",
   "metadata": {},
   "source": [
    "Training loop"
   ]
  },
  {
   "cell_type": "code",
   "execution_count": 26,
   "id": "9a2b4b8b",
   "metadata": {},
   "outputs": [
    {
     "name": "stdout",
     "output_type": "stream",
     "text": [
      "Epoch 1 \t\t Training Loss: 13.672700457382202\n",
      "Epoch 2 \t\t Training Loss: 12.895834921646118\n",
      "Epoch 3 \t\t Training Loss: 9.268103957366943\n",
      "Epoch 4 \t\t Training Loss: 6.708257639503479\n",
      "Epoch 5 \t\t Training Loss: 5.889385396385193\n",
      "Epoch 6 \t\t Training Loss: 5.505924179744721\n",
      "Epoch 7 \t\t Training Loss: 5.197392390537262\n",
      "Epoch 8 \t\t Training Loss: 4.898648763751984\n",
      "Epoch 9 \t\t Training Loss: 4.6850445536613465\n",
      "Epoch 10 \t\t Training Loss: 4.5987526258468625\n",
      "Epoch 11 \t\t Training Loss: 4.570238207817078\n",
      "Epoch 12 \t\t Training Loss: 4.30876289434433\n",
      "Epoch 13 \t\t Training Loss: 4.213368010139465\n",
      "Epoch 14 \t\t Training Loss: 4.140250939893723\n",
      "Epoch 15 \t\t Training Loss: 4.017431284523011\n",
      "Epoch 16 \t\t Training Loss: 3.9411824847221375\n",
      "Epoch 17 \t\t Training Loss: 3.9368967732429505\n",
      "Epoch 18 \t\t Training Loss: 3.8351027029037477\n",
      "Epoch 19 \t\t Training Loss: 3.7260003231048584\n",
      "Epoch 20 \t\t Training Loss: 3.687463657951355\n"
     ]
    }
   ],
   "source": [
    "model = MyModule().to(DEVICE)\n",
    "\n",
    "NUM_EPOCHS = 20\n",
    "\n",
    "criterion = nn.MSELoss()\n",
    "optimizer = optim.Adam(model.parameters(), lr=0.01)\n",
    "lambda1 = lambda epoch: 0.95 ** epoch\n",
    "scheduler = optim.lr_scheduler.LambdaLR(optimizer, lambda1)\n",
    "\n",
    "model.train()\n",
    "for epoch in range(NUM_EPOCHS):\n",
    "    model.train()\n",
    "\n",
    "    running_loss = 0.0\n",
    "\n",
    "    for sample in train_loader_total:\n",
    "        title = sample['title'].to(DEVICE)\n",
    "        content = sample['content'].to(DEVICE)\n",
    "        score = sample['score'].to(DEVICE)\n",
    "\n",
    "        input = torch.cat((title, content), -1)\n",
    "        \n",
    "        optimizer.zero_grad()\n",
    "        output = model(input)\n",
    "        \n",
    "        loss = criterion(output, score.float())\n",
    "        loss.backward()\n",
    "        optimizer.step()\n",
    "\n",
    "        running_loss += loss.item()*input.size(0)\n",
    "\n",
    "    training_loss = running_loss / len(train_loader.dataset)\n",
    "    scheduler.step()\n",
    "    \n",
    "    print(f'Epoch {epoch+1} \\t\\t Training Loss: {training_loss}')"
   ]
  },
  {
   "cell_type": "markdown",
   "id": "afe69712",
   "metadata": {},
   "source": [
    "Evaluation Loop"
   ]
  },
  {
   "cell_type": "code",
   "execution_count": 27,
   "id": "60e56bba5fa2d905",
   "metadata": {
    "collapsed": false
   },
   "outputs": [],
   "source": [
    "model.eval()\n",
    "\n",
    "results = []\n",
    "with torch.no_grad():\n",
    "\n",
    "    for sample in test_loader:\n",
    "        title = sample['title'].to(DEVICE)\n",
    "        content = sample['content'].to(DEVICE)\n",
    "\n",
    "        input = torch.cat((title, content), -1)\n",
    "        output = model(input)\n",
    "                \n",
    "        results.append(output)\n",
    "\n",
    "    with open(\"result.txt\", \"w\") as f:\n",
    "        for val in np.concatenate(results):\n",
    "            f.write(f\"{val}\\n\")"
   ]
  }
 ],
 "metadata": {
  "kernelspec": {
   "display_name": "Python 3",
   "language": "python",
   "name": "python3"
  },
  "language_info": {
   "codemirror_mode": {
    "name": "ipython",
    "version": 3
   },
   "file_extension": ".py",
   "mimetype": "text/x-python",
   "name": "python",
   "nbconvert_exporter": "python",
   "pygments_lexer": "ipython3",
   "version": "3.11.8"
  }
 },
 "nbformat": 4,
 "nbformat_minor": 5
}
